{
  "cells": [
    {
      "cell_type": "markdown",
      "metadata": {
        "id": "view-in-github",
        "colab_type": "text"
      },
      "source": [
        "<a href=\"https://colab.research.google.com/github/allochkavasileva2000-dotcom/university-/blob/main/Tasks/Ex_Task_%E2%84%963.ipynb\" target=\"_parent\"><img src=\"https://colab.research.google.com/assets/colab-badge.svg\" alt=\"Open In Colab\"/></a>"
      ]
    },
    {
      "cell_type": "markdown",
      "id": "bb332bf9",
      "metadata": {
        "id": "bb332bf9"
      },
      "source": [
        "# **Дополнительное задание №3. Обработка исключений и работа с текстовыми файлами**"
      ]
    },
    {
      "cell_type": "markdown",
      "id": "aa6808db",
      "metadata": {
        "id": "aa6808db"
      },
      "source": [
        "**БАЗА:**\n",
        "\n",
        "- **Обработка исключений** позволяет перехватывать и обрабатывать ошибки, возникающие при выполнении программы, предотвращая её аварийное завершение.\n",
        "- **Работа с файлами** - важный навык для чтения, записи и обработки текстовой информации в Python.\n",
        "\n",
        "---"
      ]
    },
    {
      "cell_type": "markdown",
      "id": "2478deca",
      "metadata": {
        "id": "2478deca"
      },
      "source": [
        "## **I. Обработка исключений**"
      ]
    },
    {
      "cell_type": "markdown",
      "id": "0ab0b851",
      "metadata": {
        "id": "0ab0b851"
      },
      "source": [
        "### **Пункт №1. Обработка некорректного индекса (IndexError)**"
      ]
    },
    {
      "cell_type": "markdown",
      "id": "46e69e1f",
      "metadata": {
        "id": "46e69e1f"
      },
      "source": [
        "Создайте список из нескольких элементов (например, [10, 20, 30]). Попросите пользователя ввести индекс элемента, который нужно вывести. Если пользователь введёт индекс, выходящий за границы списка, перехватите IndexError и сообщите об этом.\n",
        "\n",
        "**ОБЯЗАТЕЛЬНО:**\n",
        "- Создайте список из минимум 5 элементов\n",
        "- Покажите содержимое списка перед работой\n",
        "- Протестируйте минимум 4 случая (корректный индекс, отрицательный, слишком большой, нечисловое значение)"
      ]
    },
    {
      "cell_type": "markdown",
      "id": "7ac84eec",
      "metadata": {
        "id": "7ac84eec"
      },
      "source": [
        "---"
      ]
    },
    {
      "cell_type": "code",
      "execution_count": null,
      "id": "724c5954",
      "metadata": {
        "id": "724c5954",
        "colab": {
          "base_uri": "https://localhost:8080/"
        },
        "outputId": "821ce5aa-eea2-47af-b70a-eeb6575033cc",
        "cellView": "code"
      },
      "outputs": [
        {
          "output_type": "stream",
          "name": "stdout",
          "text": [
            "[10, 20, 30, 555, 666, 777]\n",
            " введите индекс элемента: hello\n",
            "неккоректный индекс\n",
            "конец\n"
          ]
        }
      ],
      "source": [
        "# @title Текст заголовка по умолчанию\n",
        "lists = [10,20,30,555,666, 777]\n",
        "print(lists)\n",
        "\n",
        "try:\n",
        "  number = int(input(\" введите индекс элемента: \"))\n",
        "  element = lists[number]\n",
        "except IndexError:\n",
        "  print(\"такого индекса нет\")\n",
        "except ValueError:\n",
        "  print(\"неккоректный индекс\")\n",
        "\n",
        "else:\n",
        "  print(f\"элемент по индексу {number}: {element} \")\n",
        "finally:\n",
        "  print(\"конец\")\n",
        "\n",
        "\n"
      ]
    },
    {
      "cell_type": "markdown",
      "id": "f8bfb6e1",
      "metadata": {
        "id": "f8bfb6e1"
      },
      "source": [
        "### **Пункт №2. Обработка исключений в цикле**"
      ]
    },
    {
      "cell_type": "markdown",
      "id": "63c3b706",
      "metadata": {
        "id": "63c3b706"
      },
      "source": [
        "Напишите программу, которая запрашивает у пользователя числа и добавляет их в список.\n",
        "- Если пользователь вводит некорректные данные, программа должна выводить сообщение об ошибке и продолжать работу.\n",
        "- Для выхода из программы пользователь должен ввести \"стоп\".\n",
        "\n",
        "**ОБЯЗАТЕЛЬНО:**\n",
        "- Покажите процесс ввода минимум 7 значений (включая ошибочные)\n",
        "- Выведите финальный список и статистику (сколько чисел введено успешно, сколько ошибок)"
      ]
    },
    {
      "cell_type": "markdown",
      "source": [
        "\n",
        "\n",
        "```\n",
        "# Пример:\n",
        "# Введите число: 10\n",
        "# Введите число: текст (Ошибка: это не число)\n",
        "# Введите число: стоп\n",
        "# Итоговый список: [10]\n",
        "```\n",
        "\n"
      ],
      "metadata": {
        "id": "aiWaEPOuoHDS"
      },
      "id": "aiWaEPOuoHDS"
    },
    {
      "cell_type": "code",
      "execution_count": null,
      "id": "31448e09",
      "metadata": {
        "id": "31448e09",
        "colab": {
          "base_uri": "https://localhost:8080/"
        },
        "outputId": "d5e31dc4-9584-49e0-9ed8-b0539683c7bf"
      },
      "outputs": [
        {
          "output_type": "stream",
          "name": "stdout",
          "text": [
            "введите число: 78\n",
            "число добавлено в список\n",
            "введите число: 344\n",
            "число добавлено в список\n",
            "введите число: -90\n",
            "число добавлено в список\n",
            "введите число: **********\n",
            "это не число\n",
            "введите число: ayayayayayay\n",
            "это не число\n",
            "введите число: 0087654\n",
            "число добавлено в список\n",
            "введите число: $^&\n",
            "это не число\n",
            "введите число: hello\n",
            "это не число\n",
            "введите число: 67\n",
            "число добавлено в список\n",
            "введите число: стоп\n",
            "итоговый список: [78, 344, -90, 87654, 67]\n",
            "количество ошибок: 4\n",
            "чисел введено успешно: 5\n"
          ]
        }
      ],
      "source": [
        "lst = []\n",
        "error = 0\n",
        "while True:\n",
        "  num = input(\"введите число: \")\n",
        "  if num == \"стоп\":\n",
        "    break\n",
        "\n",
        "  try:\n",
        "    num = int(num)\n",
        "    lst.append(num)\n",
        "  except ValueError:\n",
        "    error+=1\n",
        "    print(\"это не число\")\n",
        "  except Exception as e:\n",
        "    error+=1\n",
        "    print(f\"что-то пошло не так: {e}\")\n",
        "  else:\n",
        "    print(\"число добавлено в список\")\n",
        "\n",
        "print(f\"итоговый список: {lst}\")\n",
        "print(f\"количество ошибок: {error}\")\n",
        "\n",
        "\n",
        "\n",
        "print(f\"чисел введено успешно: {len(lst)}\")\n",
        "\n",
        "\n",
        "\n",
        "\n"
      ]
    },
    {
      "cell_type": "markdown",
      "metadata": {
        "id": "Yv-FNYTEp0vV"
      },
      "source": [
        "---"
      ],
      "id": "Yv-FNYTEp0vV"
    },
    {
      "cell_type": "markdown",
      "id": "5971f85d",
      "metadata": {
        "id": "5971f85d"
      },
      "source": [
        "### **Пункт №3**"
      ]
    },
    {
      "cell_type": "markdown",
      "id": "b1457074",
      "metadata": {
        "id": "b1457074"
      },
      "source": [
        "Создайте функцию `get_list_element(lst, index)`, которая безопасно извлекает элемент списка по индексу с использованием блоков `try`, `except`, `else` и `finally`.\n",
        "\n",
        "Функция должна:\n",
        "- Обрабатывать выход за пределы списка\n",
        "- Обрабатывать некорректный тип индекса\n",
        "- Выводить сообщение о попытке доступа в блоке `finally`\n",
        "\n",
        "**ОБЯЗАТЕЛЬНО:**\n",
        "- Выведите результаты для минимум 4 различных случаев (успешный доступ, выход за границы, отрицательный индекс, нечисловой индекс)\n",
        "- Покажите, что блок `finally` выполняется всегда\n",
        "\n",
        "```python\n",
        "# Пример использования:\n",
        "my_list = [1, 2, 3, 4, 5]\n",
        "get_list_element(my_list, 2)   # Вывод: \"Элемент: 3\", \"Попытка доступа завершена\"\n",
        "get_list_element(my_list, 10)  # Вывод: \"Индекс вне диапазона\", \"Попытка доступа завершена\"\n",
        "```"
      ]
    },
    {
      "cell_type": "code",
      "execution_count": null,
      "id": "1c067cf3",
      "metadata": {
        "id": "1c067cf3",
        "colab": {
          "base_uri": "https://localhost:8080/"
        },
        "outputId": "cfd9d078-7b71-433b-aea6-2d0014f62dd4"
      },
      "outputs": [
        {
          "output_type": "stream",
          "name": "stdout",
          "text": [
            "элемент: 6\n",
            "попытка доступа завершена\n",
            "элемент: 7\n",
            "попытка доступа завершена\n",
            "такого индекса нет\n",
            "попытка доступа завершена\n",
            "некорректный индекс\n",
            "попытка доступа завершена\n"
          ]
        }
      ],
      "source": [
        "def get_list_element(lst,index):\n",
        "  try:\n",
        "    element = lst[index]\n",
        "  except IndexError:\n",
        "    print(\"такого индекса нет\")\n",
        "  except TypeError:\n",
        "    print(\"некорректный индекс\")\n",
        "  else:\n",
        "    print(f\"элемент: {element}\")\n",
        "  finally:\n",
        "    print(\"попытка доступа завершена\")\n",
        "\n",
        "l = [1,2,3,4,5,6,7,8]\n",
        "get_list_element(l, 5)\n",
        "get_list_element(l, -2)\n",
        "get_list_element(l,100)\n",
        "get_list_element(l,\"*\")\n",
        "\n"
      ]
    },
    {
      "cell_type": "markdown",
      "id": "b5bb39c7",
      "metadata": {
        "id": "b5bb39c7"
      },
      "source": [
        "---"
      ]
    },
    {
      "cell_type": "markdown",
      "id": "b0972d59",
      "metadata": {
        "id": "b0972d59"
      },
      "source": [
        "## **II. Работа с текстовыми файлами**"
      ]
    },
    {
      "cell_type": "markdown",
      "id": "35729435",
      "metadata": {
        "id": "35729435"
      },
      "source": [
        "### **Пункт №1. Запись в файл**"
      ]
    },
    {
      "cell_type": "markdown",
      "id": "3121365f",
      "metadata": {
        "id": "3121365f"
      },
      "source": [
        "Напишите программу, которая запрашивает у пользователя строку и записывает её в файл output.txt в режиме дозаписи.\n",
        "\n",
        "**ОБЯЗАТЕЛЬНО:**\n",
        "- Запросите у пользователя минимум 3 строки\n",
        "- Покажите содержимое файла после записи"
      ]
    },
    {
      "cell_type": "code",
      "execution_count": null,
      "id": "cbce6c5f",
      "metadata": {
        "id": "cbce6c5f",
        "colab": {
          "base_uri": "https://localhost:8080/"
        },
        "outputId": "98ebec69-359b-4a61-db37-cb9e81b34a05"
      },
      "outputs": [
        {
          "output_type": "stream",
          "name": "stdout",
          "text": [
            "введите строку: hahahah\n",
            "введите строку: like\n",
            "введите строку: cherry\n",
            "3\n",
            "2\n",
            "4\n",
            "hahahah\n",
            "like\n",
            "cherry\n",
            "\n"
          ]
        }
      ],
      "source": [
        "text = open(\"output.txt\", mode = \"a+\", encoding = \"utf8\")\n",
        "for _ in range(3):\n",
        "  s = input(\"введите строку: \")\n",
        "  text.write(s + \"\\n\")\n",
        "text.seek(0)\n",
        "print(text.read())\n",
        "\n",
        "text.close()"
      ]
    },
    {
      "cell_type": "markdown",
      "id": "361b3d2b",
      "metadata": {
        "id": "361b3d2b"
      },
      "source": [
        "---"
      ]
    },
    {
      "cell_type": "markdown",
      "id": "cce864b4",
      "metadata": {
        "id": "cce864b4"
      },
      "source": [
        "### **Пункт №2. Чтение из файла**"
      ]
    },
    {
      "cell_type": "markdown",
      "id": "4fc83b82",
      "metadata": {
        "id": "4fc83b82"
      },
      "source": [
        "Напишите программу, которая открывает файл output.txt и выводит его содержимое на экран.\n",
        "\n",
        "**ОБЯЗАТЕЛЬНО:**\n",
        "- Создайте файл с минимум 5 строками текста\n",
        "- Покажите содержимое файла целиком\n",
        "- Обработайте случай отсутствующего файла"
      ]
    },
    {
      "cell_type": "code",
      "execution_count": null,
      "id": "df27a986",
      "metadata": {
        "id": "df27a986",
        "colab": {
          "base_uri": "https://localhost:8080/"
        },
        "outputId": "b64fc196-7bcb-4b99-e2e1-649bb8dce137"
      },
      "outputs": [
        {
          "output_type": "stream",
          "name": "stdout",
          "text": [
            "banana\n",
            "orange\n",
            "potato\n",
            "pineapple\n",
            "sun\n",
            "\n"
          ]
        }
      ],
      "source": [
        "with open(\"output.txt\", mode = 'w',encoding = \"utf8\") as text:\n",
        "  words = [\"banana\\n\", \"orange\\n\", \"potato\\n\", \"pineapple\\n\", \"sun\\n\"]\n",
        "  new_text = text.writelines(words)\n",
        "\n",
        "try:\n",
        "  with open (\"output.txt\", mode = 'r',encoding = \"utf8\") as text2:\n",
        "    lines = text2.read()\n",
        "except FileNotFoundError:\n",
        "  print(\"файла нет\")\n",
        "else:\n",
        "  print(lines)\n",
        "\n"
      ]
    },
    {
      "cell_type": "markdown",
      "id": "2be296a2",
      "metadata": {
        "id": "2be296a2"
      },
      "source": [
        "---"
      ]
    },
    {
      "cell_type": "markdown",
      "id": "045696ba",
      "metadata": {
        "id": "045696ba"
      },
      "source": [
        "### **Пункт №3. Подсчет строк в файле**"
      ]
    },
    {
      "cell_type": "markdown",
      "id": "570ac3e9",
      "metadata": {
        "id": "570ac3e9"
      },
      "source": [
        "Напишите программу, которая открывает файл output.txt и подсчитывает количество строк в нём.\n",
        "\n",
        "**ОБЯЗАТЕЛЬНО:**\n",
        "- Создайте тестовый файл с известным количеством строк (минимум 10)\n",
        "- Покажите первые 3 строки файла\n",
        "- Выведите общее количество строк\n",
        "- Выведите количество непустых строк"
      ]
    },
    {
      "cell_type": "code",
      "execution_count": null,
      "id": "84aa205a",
      "metadata": {
        "id": "84aa205a",
        "colab": {
          "base_uri": "https://localhost:8080/"
        },
        "outputId": "cc5a63d0-c2dd-4a94-d1f0-7119bfd232e2"
      },
      "outputs": [
        {
          "output_type": "stream",
          "name": "stdout",
          "text": [
            "apple\n",
            "\n",
            "banana\n",
            "\n",
            "orange\n",
            "\n",
            "количество строк: 11\n",
            "количество непустых строк: 10\n"
          ]
        }
      ],
      "source": [
        "with open(\"output.txt\", mode = \"w\", encoding = \"utf8\") as text:\n",
        "  word = [\"apple\\n\", \"banana\\n\", \"orange\\n\", \"airpods\\n\", \"book\\n\", \"cup\\n\", \"pencil\\n\", \"note\\n\", \"wednesday\\n\", \"october\\n\", \"\\n\"]\n",
        "  text.writelines(word)\n",
        "\n",
        "with open(\"output.txt\", mode = \"r\", encoding = \"utf8\") as text2:\n",
        "  text2.seek(0)\n",
        "  print(text2.readline())\n",
        "  print(text2.readline())\n",
        "  print(text2.readline())\n",
        "\n",
        "  text2.seek(0)\n",
        "  count = text2.readlines()\n",
        "  print(f\"количество строк: {len(count)}\")\n",
        "\n",
        "  k = 0\n",
        "  for i in count:\n",
        "    if i!=\"\\n\":\n",
        "      k+=1\n",
        "  print(f\"количество непустых строк: {k}\")\n"
      ]
    },
    {
      "cell_type": "markdown",
      "id": "94c6dcb0",
      "metadata": {
        "id": "94c6dcb0"
      },
      "source": [
        "---"
      ]
    },
    {
      "cell_type": "markdown",
      "id": "56f2a74e",
      "metadata": {
        "id": "56f2a74e"
      },
      "source": [
        "### **Пункт №4. Копирование содержимого файла**"
      ]
    },
    {
      "cell_type": "markdown",
      "id": "ed736046",
      "metadata": {
        "id": "ed736046"
      },
      "source": [
        "Напишите программу, которая копирует содержимое файла input.txt в файл output.txt.\n",
        "\n",
        "**ОБЯЗАТЕЛЬНО:**\n",
        "- Создайте исходный файл с тестовым содержимым (минимум 5 строк)\n",
        "- Покажите содержимое исходного файла\n",
        "- Выполните копирование\n",
        "- Покажите содержимое скопированного файла\n",
        "- Обработайте случай отсутствия исходного файла"
      ]
    },
    {
      "cell_type": "code",
      "execution_count": null,
      "id": "31bd8a06",
      "metadata": {
        "id": "31bd8a06",
        "outputId": "f433716e-67af-4587-dc43-1a90c7a0bbc0",
        "colab": {
          "base_uri": "https://localhost:8080/"
        }
      },
      "outputs": [
        {
          "output_type": "stream",
          "name": "stdout",
          "text": [
            "содержимое файла input.txt: apple\n",
            "banana\n",
            "orange\n",
            "airpods\n",
            "book\n",
            "cup\n",
            "\n",
            "содержимое файла output.txt: apple\n",
            "banana\n",
            "orange\n",
            "airpods\n",
            "book\n",
            "cup\n",
            "\n"
          ]
        }
      ],
      "source": [
        "with open(\"input.txt\", mode = \"w\", encoding = \"utf8\") as text:\n",
        "  word = [\"apple\\n\", \"banana\\n\", \"orange\\n\", \"airpods\\n\", \"book\\n\", \"cup\\n\"]\n",
        "  text.writelines(word)\n",
        "\n",
        "\n",
        "try:\n",
        "  with open(\"input.txt\", mode = \"r\", encoding = \"utf8\") as text2:\n",
        "    read_text = text2.read()\n",
        "\n",
        "except FileNotFoundError:\n",
        "  print(\"файл не найден\")\n",
        "\n",
        "else:\n",
        "  print(f\"содержимое файла input.txt: {read_text}\")\n",
        "\n",
        "  with open(\"output.txt\", mode = \"w\", encoding = \"utf8\") as text3:\n",
        "    text3.write(read_text)\n",
        "\n",
        "  try:\n",
        "    with open(\"output.txt\", mode = \"r\", encoding = \"utf8\") as text4:\n",
        "      r_text4 = text4.read()\n",
        "  except FileNotFoundError:\n",
        "    print(\"файл не найден\")\n",
        "  else:\n",
        "     print(f\"содержимое файла output.txt: {r_text4}\")\n",
        "\n",
        "\n",
        "\n",
        "\n",
        "\n"
      ]
    },
    {
      "cell_type": "markdown",
      "id": "2f7c8ee5",
      "metadata": {
        "id": "2f7c8ee5"
      },
      "source": [
        "---"
      ]
    },
    {
      "cell_type": "markdown",
      "id": "70ee398b",
      "metadata": {
        "id": "70ee398b"
      },
      "source": [
        "### **Пункт №5. Поиск слова в файле**"
      ]
    },
    {
      "cell_type": "markdown",
      "id": "c67f8987",
      "metadata": {
        "id": "c67f8987"
      },
      "source": [
        "Напишите программу, которая открывает файл output.txt и проверяет, содержится ли в нём слово, введённое пользователем.\n",
        "\n",
        "**ОБЯЗАТЕЛЬНО:**\n",
        "- Создайте файл с минимум 10 строками текста\n",
        "- Покажите содержимое файла\n",
        "- Протестируйте поиск минимум 5 различных слов\n",
        "- Выведите номера строк, где найдено слово\n",
        "- Покажите количество вхождений слова"
      ]
    },
    {
      "cell_type": "code",
      "execution_count": 15,
      "id": "d961bbf3",
      "metadata": {
        "id": "d961bbf3",
        "outputId": "bf06f5b2-1ee5-4633-83a1-42f35765a04f",
        "colab": {
          "base_uri": "https://localhost:8080/"
        }
      },
      "outputs": [
        {
          "output_type": "stream",
          "name": "stdout",
          "text": [
            "содержимое файла:  apple\n",
            "banana\n",
            "orange\n",
            "airpods\n",
            "book\n",
            "cup\n",
            "pencil\n",
            "note\n",
            "wednesday\n",
            "october\n",
            "october\n",
            "\n",
            "введите слово:  banana\n",
            "banana в [2] строке, количество вхождений: 1\n",
            "введите слово:  apple\n",
            "apple в [1] строке, количество вхождений: 1\n",
            "введите слово:  october\n",
            "october в [10, 11] строке, количество вхождений: 2\n",
            "введите слово:  train\n",
            "слова в тексте нет \n",
            "введите слово:  note\n",
            "note в [8] строке, количество вхождений: 1\n"
          ]
        }
      ],
      "source": [
        "with open(\"output.txt\", mode = \"w+\", encoding = \"utf8\") as text:\n",
        "  words_in_text = [\"apple\\n\", \"banana\\n\", \"orange\\n\", \"airpods\\n\", \"book\\n\", \"cup\\n\", \"pencil\\n\", \"note\\n\", \"wednesday\\n\", \"october\\n\", \"october\\n\"]\n",
        "  text.writelines(words_in_text)\n",
        "  text.seek(0)\n",
        "  text_r = text.readlines()\n",
        "  text.seek(0)\n",
        "  print(\"содержимое файла: \", text.read())\n",
        "\n",
        "\n",
        "\n",
        "for i in range(5):\n",
        "\n",
        "  word = input(\"введите слово:  \")\n",
        "  count_word = 0\n",
        "  count_line = 0\n",
        "  number_index = []\n",
        "\n",
        "  for line in text_r:\n",
        "    count_line+=1\n",
        "    if word in line:\n",
        "      count_word +=1\n",
        "      number_index.append(count_line)\n",
        "\n",
        "  if count_word>0:\n",
        "    print(f\"{word} в {number_index} строке, количество вхождений: {count_word}\")\n",
        "  else:\n",
        "    print(\"слова в тексте нет \")\n",
        "\n",
        "\n"
      ]
    },
    {
      "cell_type": "markdown",
      "id": "8d69c77a",
      "metadata": {
        "id": "8d69c77a"
      },
      "source": [
        "---"
      ]
    },
    {
      "cell_type": "markdown",
      "id": "0079e067",
      "metadata": {
        "id": "0079e067"
      },
      "source": [
        "### **Пункт №6. Чтение файла с обработкой FileNotFoundError**"
      ]
    },
    {
      "cell_type": "markdown",
      "id": "c3d27312",
      "metadata": {
        "id": "c3d27312"
      },
      "source": [
        "Напишите программу, которая запрашивает у пользователя имя файла и пытается открыть его. Если файла не существует, перехватите FileNotFoundError и выведите сообщение «Файл не найден!».\n",
        "\n",
        "**ОБЯЗАТЕЛЬНО:**\n",
        "- Протестируйте с существующим файлом\n",
        "- Протестируйте с несуществующим файлом\n",
        "- Покажите содержимое существующего файла"
      ]
    },
    {
      "cell_type": "code",
      "execution_count": null,
      "id": "0c262bd2",
      "metadata": {
        "id": "0c262bd2",
        "outputId": "c3065517-3555-4f7f-ae52-adbab605010d",
        "colab": {
          "base_uri": "https://localhost:8080/"
        }
      },
      "outputs": [
        {
          "output_type": "stream",
          "name": "stdout",
          "text": [
            "введите имя файла:  output.txt\n",
            "apple\n",
            "banana\n",
            "orange\n",
            "airpods\n",
            "book\n",
            "cup\n",
            "pencil\n",
            "note\n",
            "wednesday\n",
            "october\n",
            "\n",
            "\n",
            "введите имя файла:  hohoho\n",
            "файл не найден\n"
          ]
        }
      ],
      "source": [
        "with open(\"output.txt\", mode = \"w+\", encoding = \"utf8\") as text:\n",
        "  words_in_text = [\"apple\\n\", \"banana\\n\", \"orange\\n\", \"airpods\\n\", \"book\\n\", \"cup\\n\", \"pencil\\n\", \"note\\n\", \"wednesday\\n\", \"october\\n\", \"\\n\"]\n",
        "  text.writelines(words_in_text)\n",
        "\n",
        "for i in range(2):\n",
        "  name = input(\"введите имя файла:  \")\n",
        "\n",
        "  try:\n",
        "    with open(name, mode = \"r\", encoding = \"utf8\") as text2:\n",
        "      read_text = text2.read()\n",
        "  except FileNotFoundError:\n",
        "    print(\"файл не найден\")\n",
        "  else:\n",
        "    print(read_text)\n",
        "\n"
      ]
    },
    {
      "cell_type": "markdown",
      "id": "c3258b46",
      "metadata": {
        "id": "c3258b46"
      },
      "source": [
        "---"
      ]
    },
    {
      "cell_type": "markdown",
      "id": "02e0767b",
      "metadata": {
        "id": "02e0767b"
      },
      "source": [
        "### **Пункт №7. Подсчет статистики файла**"
      ]
    },
    {
      "cell_type": "markdown",
      "id": "1c33b711",
      "metadata": {
        "id": "1c33b711"
      },
      "source": [
        "Напишите функцию `file_statistics(filename)`, которая читает текстовый файл и возвращает словарь со статистикой:\n",
        "- Количество строк\n",
        "- Количество слов\n",
        "- Количество символов (с пробелами и без)\n",
        "\n",
        "**ОБЯЗАТЕЛЬНО:**\n",
        "- Создайте тестовый файл с минимум 5 строками текста\n",
        "- Выведите содержимое файла ДО обработки\n",
        "- Выведите полученную статистику\n",
        "- Обработайте случай несуществующего файла\n",
        "\n",
        "```python\n",
        "# Создание тестового файла\n",
        "test_content = \"\"\"Первая строка текста\n",
        "Вторая строка с большим количеством слов\n",
        "Третья строка\n",
        "Четвертая строка для теста\n",
        "Пятая и последняя строка\"\"\"\n",
        "\n",
        "# Сохраните в файл и продемонстрируйте работу\n",
        "```"
      ]
    },
    {
      "cell_type": "code",
      "execution_count": null,
      "id": "43bfd6b8",
      "metadata": {
        "id": "43bfd6b8"
      },
      "outputs": [],
      "source": [
        "# Ваш код и демонстрация работы"
      ]
    },
    {
      "cell_type": "markdown",
      "id": "903281dd",
      "metadata": {
        "id": "903281dd"
      },
      "source": [
        "---"
      ]
    },
    {
      "cell_type": "markdown",
      "id": "ad8b4ae4",
      "metadata": {
        "id": "ad8b4ae4"
      },
      "source": [
        "### **Пункт №8. Поиск и замена в файле**"
      ]
    },
    {
      "cell_type": "markdown",
      "id": "e5230d0a",
      "metadata": {
        "id": "e5230d0a"
      },
      "source": [
        "Напишите функцию `replace_in_file(filename, old_text, new_text)`, которая заменяет все вхождения `old_text` на `new_text` в файле и сохраняет результат в новый файл с префиксом \"modified_\".\n",
        "\n",
        "**ОБЯЗАТЕЛЬНО:**\n",
        "- Создайте файл с текстом, содержащим минимум 3 вхождения заменяемого слова\n",
        "- Выведите содержимое файла ДО замены\n",
        "- Выполните замену\n",
        "- Выведите содержимое файла ПОСЛЕ замены\n",
        "- Покажите количество произведенных замен"
      ]
    },
    {
      "cell_type": "code",
      "execution_count": null,
      "id": "64a05e35",
      "metadata": {
        "id": "64a05e35"
      },
      "outputs": [],
      "source": [
        "# Ваш код и демонстрация работы"
      ]
    },
    {
      "cell_type": "markdown",
      "id": "f77b0568",
      "metadata": {
        "id": "f77b0568"
      },
      "source": [
        "---"
      ]
    },
    {
      "cell_type": "markdown",
      "id": "79a081b1",
      "metadata": {
        "id": "79a081b1"
      },
      "source": [
        "### **Пункт №9. Объединение файлов**"
      ]
    },
    {
      "cell_type": "markdown",
      "id": "599cee3c",
      "metadata": {
        "id": "599cee3c"
      },
      "source": [
        "Создайте функцию `merge_files(file_list, output_file)`, которая объединяет содержимое нескольких текстовых файлов в один, добавляя после каждого разделитель.\n",
        "\n",
        "**ОБЯЗАТЕЛЬНО:**\n",
        "- Создайте минимум 3 файла с разным содержимым\n",
        "- Выведите содержимое КАЖДОГО исходного файла\n",
        "- Выполните объединение\n",
        "- Выведите содержимое результирующего файла"
      ]
    },
    {
      "cell_type": "code",
      "execution_count": null,
      "id": "581b5868",
      "metadata": {
        "id": "581b5868"
      },
      "outputs": [],
      "source": [
        "# Ваш код и демонстрация работы"
      ]
    },
    {
      "cell_type": "markdown",
      "id": "eb866091",
      "metadata": {
        "id": "eb866091"
      },
      "source": [
        "---"
      ]
    }
  ],
  "metadata": {
    "colab": {
      "provenance": [],
      "include_colab_link": true
    },
    "language_info": {
      "name": "python"
    },
    "kernelspec": {
      "name": "python3",
      "display_name": "Python 3"
    }
  },
  "nbformat": 4,
  "nbformat_minor": 5
}